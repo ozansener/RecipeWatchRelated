{
 "metadata": {
  "name": "",
  "signature": "sha256:794da5f25b4482ec62784ddf28d1686386c1f32a5e22eae56e16fb1da478c3f3"
 },
 "nbformat": 3,
 "nbformat_minor": 0,
 "worksheets": [
  {
   "cells": [
    {
     "cell_type": "code",
     "collapsed": false,
     "input": [
      "import numpy as np\n",
      "import scipy as sp\n",
      "import pandas as pd\n",
      "import matplotlib.pyplot as plt\n",
      "from RecipeWatchRelated import *\n",
      "%pylab inline\n",
      "\n",
      "d = {\n",
      "        'cluster_id': np.load('../data/cluster_ids.npy'),\n",
      "        'video_id':np.load('../data/video_ids.npy'),\n",
      "        'frame_id':np.load('../data/frame_ids.npy'),\n",
      "        'mask_id':np.load('../data/mask_ids.npy')\n",
      "    }\n",
      "df = pd.DataFrame(d)\n",
      "print df.head()"
     ],
     "language": "python",
     "metadata": {},
     "outputs": [
      {
       "output_type": "stream",
       "stream": "stdout",
       "text": [
        "Populating the interactive namespace from numpy and matplotlib\n",
        "   cluster_id  frame_id  mask_id          video_id\n",
        "0          10         1        0  cpmc_jk36el4_Rbc\n",
        "1           2         1        1  cpmc_jk36el4_Rbc\n",
        "2          18         1        2  cpmc_jk36el4_Rbc\n",
        "3           0         1        3  cpmc_jk36el4_Rbc\n",
        "4          21         1        4  cpmc_jk36el4_Rbc\n"
       ]
      }
     ],
     "prompt_number": 7
    },
    {
     "cell_type": "code",
     "collapsed": false,
     "input": [],
     "language": "python",
     "metadata": {},
     "outputs": []
    }
   ],
   "metadata": {}
  }
 ]
}