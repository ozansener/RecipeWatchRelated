{
 "metadata": {
  "name": "",
  "signature": "sha256:f7da59df37e9d91436b0579aafd7199c8c6234b4d436ffd32ef08b4da742f18e"
 },
 "nbformat": 3,
 "nbformat_minor": 0,
 "worksheets": [
  {
   "cells": [
    {
     "cell_type": "code",
     "collapsed": false,
     "input": [
      "import numpy as np\n",
      "import scipy as sp\n",
      "import pandas as pd\n",
      "import matplotlib.pyplot as plt\n",
      "from RecipeWatchRelated import *\n",
      "%pylab inline\n",
      "\n",
      "cluster_ids = np.load('../data/cluster_ids.npy')\n",
      "video_ids = np.load('../data/video_ids.npy')\n",
      "frame_ids = np.load('../data/frame_ids.npy')\n",
      "mask_ids = np.load('../data/mask_ids.npy')\n",
      "df = pd.DataFrame([cluster_ids, video_ids, frame_ids, mask_ids], columns=['cluster', 'video', 'frame', 'mask'])"
     ],
     "language": "python",
     "metadata": {},
     "outputs": []
    }
   ],
   "metadata": {}
  }
 ]
}