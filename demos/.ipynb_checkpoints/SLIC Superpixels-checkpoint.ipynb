{
 "metadata": {
  "name": "",
  "signature": "sha256:64160e8490c3e04747cc4dc8c078b89b930cecd8c3efd7716b20b660bec82817"
 },
 "nbformat": 3,
 "nbformat_minor": 0,
 "worksheets": [
  {
   "cells": [
    {
     "cell_type": "code",
     "collapsed": false,
     "input": [
      "import numpy as np\n",
      "import scipy as sp\n",
      "import skimage\n",
      "from skimage.segmentation import slic\n",
      "import matplotlib.pyplot as plt\n",
      "%pylab inline\n",
      "\n",
      "from RecipeWatchRelated import *"
     ],
     "language": "python",
     "metadata": {},
     "outputs": [
      {
       "output_type": "stream",
       "stream": "stdout",
       "text": [
        "Populating the interactive namespace from numpy and matplotlib\n"
       ]
      }
     ],
     "prompt_number": 13
    },
    {
     "cell_type": "code",
     "collapsed": false,
     "input": [
      "sd = StorageDelegate()\n",
      "video = sd.get_random_video()\n",
      "frame = video.get_random_frame()"
     ],
     "language": "python",
     "metadata": {},
     "outputs": [],
     "prompt_number": 3
    },
    {
     "cell_type": "code",
     "collapsed": false,
     "input": [
      "frame.load()\n",
      "image = frame.data['image']"
     ],
     "language": "python",
     "metadata": {},
     "outputs": [],
     "prompt_number": 9
    },
    {
     "cell_type": "code",
     "collapsed": false,
     "input": [
      "slic_segments = slic(image, n_segments=500, compactness=100)"
     ],
     "language": "python",
     "metadata": {},
     "outputs": [],
     "prompt_number": 30
    },
    {
     "cell_type": "code",
     "collapsed": false,
     "input": [
      "img_copy = image.copy()\n",
      "img_copy[slic_segments != 250] = 0"
     ],
     "language": "python",
     "metadata": {},
     "outputs": [
      {
       "metadata": {},
       "output_type": "pyout",
       "prompt_number": 33,
       "text": [
        "<matplotlib.image.AxesImage at 0x10f299590>"
       ]
      },
      {
       "metadata": {},
       "output_type": "display_data",
       "png": "[encoded data removed]",
       "text": [
        "<matplotlib.figure.Figure at 0x10f280910>"
       ]
      }
     ],
     "prompt_number": 33
    },
    {
     "cell_type": "code",
     "collapsed": false,
     "input": [],
     "language": "python",
     "metadata": {},
     "outputs": []
    }
   ],
   "metadata": {}
  }
 ]
}