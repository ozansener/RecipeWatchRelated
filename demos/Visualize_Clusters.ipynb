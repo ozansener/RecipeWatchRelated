{
 "metadata": {
  "name": "",
  "signature": "sha256:9f260a959903b74561f7526f308007d1bdfaca2841b7df731726019bace9f1c0"
 },
 "nbformat": 3,
 "nbformat_minor": 0,
 "worksheets": [
  {
   "cells": [
    {
     "cell_type": "code",
     "collapsed": false,
     "input": [
      "import numpy as np\n",
      "import scipy as sp\n",
      "import pandas as pd\n",
      "import matplotlib.pyplot as plt\n",
      "from RecipeWatchRelated import *\n",
      "%pylab inline\n",
      "\n",
      "d = {\n",
      "        'cluster_id': np.load('../data/cluster_ids.npy'),\n",
      "        'video_id':np.load('../data/video_ids.npy'),\n",
      "        'frame_id':np.load('../data/frame_ids.npy'),\n",
      "        'mask_id':np.load('../data/mask_ids.npy')\n",
      "    }\n",
      "df = pd.DataFrame(d)\n",
      "print df.head()"
     ],
     "language": "python",
     "metadata": {},
     "outputs": [
      {
       "output_type": "stream",
       "stream": "stdout",
       "text": [
        "Populating the interactive namespace from numpy and matplotlib\n",
        "2350 2350 2350 2350\n",
        "               0                 1                 2                 3     \\\n",
        "0                10                 2                18                 0   \n",
        "1  cpmc_jk36el4_Rbc  cpmc_jk36el4_Rbc  cpmc_jk36el4_Rbc  cpmc_jk36el4_Rbc   \n",
        "2                 1                 1                 1                 1   \n",
        "3                 0                 1                 2                 3   \n",
        "\n",
        "               4                 5                 6                 7     \\\n",
        "0                21                10                 0                 5   \n",
        "1  cpmc_jk36el4_Rbc  cpmc_jk36el4_Rbc  cpmc_jk36el4_Rbc  cpmc_jk36el4_Rbc   \n",
        "2                 1                 1                 1                 1   \n",
        "3                 4                 5                 6                 7   \n",
        "\n",
        "               8                 9           ...                     2340  \\\n",
        "0                10                18        ...                       14   \n",
        "1  cpmc_jk36el4_Rbc  cpmc_jk36el4_Rbc        ...         cpmc_UMiCy8EH1go   \n",
        "2                 1                 1        ...                      251   \n",
        "3                 8                 9        ...                       15   \n",
        "\n",
        "               2341              2342              2343              2344  \\\n",
        "0                14                16                16                17   \n",
        "1  cpmc_UMiCy8EH1go  cpmc_UMiCy8EH1go  cpmc_UMiCy8EH1go  cpmc_UMiCy8EH1go   \n",
        "2               251               251               251               251   \n",
        "3                16                17                18                19   \n",
        "\n",
        "               2345              2346              2347              2348  \\\n",
        "0                 4                 0                16                14   \n",
        "1  cpmc_UMiCy8EH1go  cpmc_UMiCy8EH1go  cpmc_UMiCy8EH1go  cpmc_UMiCy8EH1go   \n",
        "2               251               251               251               251   \n",
        "3                20                21                22                23   \n",
        "\n",
        "               2349  \n",
        "0                16  \n",
        "1  cpmc_UMiCy8EH1go  \n",
        "2               251  \n",
        "3                24  \n",
        "\n",
        "[4 rows x 2350 columns]"
       ]
      },
      {
       "output_type": "stream",
       "stream": "stdout",
       "text": [
        "\n"
       ]
      }
     ],
     "prompt_number": 6
    },
    {
     "cell_type": "code",
     "collapsed": false,
     "input": [],
     "language": "python",
     "metadata": {},
     "outputs": []
    }
   ],
   "metadata": {}
  }
 ]
}